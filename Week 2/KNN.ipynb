{
 "cells": [
  {
   "cell_type": "code",
   "execution_count": 2,
   "metadata": {},
   "outputs": [],
   "source": [
    "import pandas as pd\n",
    "import numpy as np\n",
    "import operator\n",
    "import seaborn as sns\n",
    "import matplotlib.pyplot as plt"
   ]
  },
  {
   "cell_type": "code",
   "execution_count": 19,
   "metadata": {},
   "outputs": [
    {
     "name": "stderr",
     "output_type": "stream",
     "text": [
      "c:\\users\\accessible ai\\appdata\\local\\programs\\python\\python37\\lib\\site-packages\\seaborn\\_decorators.py:43: FutureWarning: Pass the following variables as keyword args: x, y. From version 0.12, the only valid positional argument will be `data`, and passing other arguments without an explicit keyword will result in an error or misinterpretation.\n",
      "  FutureWarning\n"
     ]
    },
    {
     "data": {
      "image/png": "[encoded data removed]",
      "text/plain": [
       "<Figure size 402.875x360 with 1 Axes>"
      ]
     },
     "metadata": {
      "needs_background": "light"
     },
     "output_type": "display_data"
    }
   ],
   "source": [
    "data = pd.read_csv(\"knn.csv\")\n",
    "sns.lmplot('x', 'y', data=data,\n",
    "           hue='c', \n",
    "           palette='Set1',           \n",
    "           fit_reg=False,\n",
    "           scatter_kws={\"s\":80})\n",
    "plt.show()"
   ]
  },
  {
   "cell_type": "code",
   "execution_count": 8,
   "metadata": {},
   "outputs": [
    {
     "data": {
      "text/html": [
       "<div>\n",
       "<style scoped>\n",
       "    .dataframe tbody tr th:only-of-type {\n",
       "        vertical-align: middle;\n",
       "    }\n",
       "\n",
       "    .dataframe tbody tr th {\n",
       "        vertical-align: top;\n",
       "    }\n",
       "\n",
       "    .dataframe thead th {\n",
       "        text-align: right;\n",
       "    }\n",
       "</style>\n",
       "<table border=\"1\" class=\"dataframe\">\n",
       "  <thead>\n",
       "    <tr style=\"text-align: right;\">\n",
       "      <th></th>\n",
       "      <th>x</th>\n",
       "      <th>y</th>\n",
       "      <th>c</th>\n",
       "    </tr>\n",
       "  </thead>\n",
       "  <tbody>\n",
       "    <tr>\n",
       "      <th>0</th>\n",
       "      <td>1</td>\n",
       "      <td>1</td>\n",
       "      <td>A</td>\n",
       "    </tr>\n",
       "    <tr>\n",
       "      <th>1</th>\n",
       "      <td>2</td>\n",
       "      <td>2</td>\n",
       "      <td>A</td>\n",
       "    </tr>\n",
       "    <tr>\n",
       "      <th>2</th>\n",
       "      <td>4</td>\n",
       "      <td>3</td>\n",
       "      <td>B</td>\n",
       "    </tr>\n",
       "    <tr>\n",
       "      <th>3</th>\n",
       "      <td>3</td>\n",
       "      <td>3</td>\n",
       "      <td>A</td>\n",
       "    </tr>\n",
       "    <tr>\n",
       "      <th>4</th>\n",
       "      <td>3</td>\n",
       "      <td>5</td>\n",
       "      <td>B</td>\n",
       "    </tr>\n",
       "  </tbody>\n",
       "</table>\n",
       "</div>"
      ],
      "text/plain": [
       "   x  y  c\n",
       "0  1  1  A\n",
       "1  2  2  A\n",
       "2  4  3  B\n",
       "3  3  3  A\n",
       "4  3  5  B"
      ]
     },
     "execution_count": 8,
     "metadata": {},
     "output_type": "execute_result"
    }
   ],
   "source": [
    "data.head()"
   ]
  },
  {
   "cell_type": "code",
   "execution_count": 4,
   "metadata": {},
   "outputs": [],
   "source": [
    "def euclidean_distance(pt1, pt2, dimension):\n",
    "    distance = 0    \n",
    "    for x in range(dimension):\n",
    "        distance += np.square(pt1[x] - pt2[x])    \n",
    "    return np.sqrt(distance)"
   ]
  },
  {
   "cell_type": "code",
   "execution_count": 5,
   "metadata": {},
   "outputs": [],
   "source": [
    "#---our own KNN model---\n",
    "\n",
    "def knn(training_points, test_point, k):\n",
    "    distances = {}  \n",
    "    \n",
    "    #---the number of axes we are dealing with---    \n",
    "    dimension = test_point.shape[1]   \n",
    "    \n",
    "    #--calculating euclidean distance between each    \n",
    "    # point in the training data and test data    \n",
    "    for i in range(len(training_points)):        \n",
    "        dist = euclidean_distance(test_point, training_points.iloc[i],                                   \n",
    "                                  dimension)     \n",
    "        \n",
    "        #---record the distance for each training point---        \n",
    "        distances[i] = dist[0]    \n",
    "        \n",
    "    #---sort the distances---    \n",
    "    sorted_d = sorted(distances, key=distances.get)    \n",
    "    \n",
    "    #---to store the neighbors---    \n",
    "    neighbors = []  \n",
    "    \n",
    "    #---extract the top k neighbors---    \n",
    "    for i in range(k):        \n",
    "        neighbors.append(sorted_d[i])   \n",
    "        \n",
    "        #---for each neighbor found, find out its class---    \n",
    "        class_counter = {}    \n",
    "        for x in range(len(neighbors)):        \n",
    "            \n",
    "            #---find out the class for that particular point---        \n",
    "            cls = training_points.iloc[neighbors[x]][-1]\n",
    "            \n",
    "            if cls in class_counter:            \n",
    "                class_counter[cls] += 1        \n",
    "            else:            \n",
    "                class_counter[cls] = 1\n",
    "    #---sort the class_counter in descending order---    \n",
    "    sorted_counter = sorted(class_counter, key=class_counter.get, reverse=True)    \n",
    "    \n",
    "    #---return the class with the most count, as well as the neighbors found---    \n",
    "    \n",
    "    return(sorted_counter[0][0], neighbors)"
   ]
  },
  {
   "cell_type": "code",
   "execution_count": 7,
   "metadata": {},
   "outputs": [
    {
     "name": "stdout",
     "output_type": "stream",
     "text": [
      "Predicted Class: B\n",
      "[3, 4, 2, 6, 1]\n"
     ]
    }
   ],
   "source": [
    "#---test point---\n",
    "test_set = [[3,3.9]]\n",
    "test = pd.DataFrame(test_set)\n",
    "cls,neighbors = knn(data, test, 5)\n",
    "print(\"Predicted Class: \" + cls)\n",
    "print(neighbors)"
   ]
  },
  {
   "cell_type": "code",
   "execution_count": 23,
   "metadata": {},
   "outputs": [
    {
     "name": "stdout",
     "output_type": "stream",
     "text": [
      "   x    y  c\n",
      "0  1  1.0  A\n",
      "1  2  2.0  A\n",
      "2  4  3.0  B\n",
      "3  3  3.0  A\n",
      "4  3  5.0  B\n",
      "5  5  6.0  B\n",
      "6  5  4.0  B\n",
      "0  3  3.9  B\n",
      "0  3  3.9  B\n",
      "0  3  3.9  B\n"
     ]
    },
    {
     "name": "stderr",
     "output_type": "stream",
     "text": [
      "c:\\users\\accessible ai\\appdata\\local\\programs\\python\\python37\\lib\\site-packages\\seaborn\\_decorators.py:43: FutureWarning: Pass the following variables as keyword args: x, y. From version 0.12, the only valid positional argument will be `data`, and passing other arguments without an explicit keyword will result in an error or misinterpretation.\n",
      "  FutureWarning\n"
     ]
    },
    {
     "data": {
      "image/png": "[encoded data removed]",
      "text/plain": [
       "<Figure size 402.875x360 with 1 Axes>"
      ]
     },
     "metadata": {
      "needs_background": "light"
     },
     "output_type": "display_data"
    }
   ],
   "source": [
    "\n",
    "entry = pd.DataFrame([[3,3.9,'B']], columns=list('xyc'))\n",
    "data = data.append(entry)\n",
    "print(data)\n",
    "sns.lmplot('x', 'y', data=data,\n",
    "           hue='c', \n",
    "           palette='Set1',           \n",
    "           fit_reg=False,\n",
    "           scatter_kws={\"s\":80})\n",
    "plt.show()"
   ]
  },
  {
   "cell_type": "code",
   "execution_count": 24,
   "metadata": {},
   "outputs": [],
   "source": [
    "from sklearn import datasets\n",
    "\n",
    "iris = datasets.load_iris()"
   ]
  },
  {
   "cell_type": "code",
   "execution_count": 25,
   "metadata": {},
   "outputs": [
    {
     "name": "stdout",
     "output_type": "stream",
     "text": [
      ".. _iris_dataset:\n",
      "\n",
      "Iris plants dataset\n",
      "--------------------\n",
      "\n",
      "**Data Set Characteristics:**\n",
      "\n",
      "    :Number of Instances: 150 (50 in each of three classes)\n",
      "    :Number of Attributes: 4 numeric, predictive attributes and the class\n",
      "    :Attribute Information:\n",
      "        - sepal length in cm\n",
      "        - sepal width in cm\n",
      "        - petal length in cm\n",
      "        - petal width in cm\n",
      "        - class:\n",
      "                - Iris-Setosa\n",
      "                - Iris-Versicolour\n",
      "                - Iris-Virginica\n",
      "                \n",
      "    :Summary Statistics:\n",
      "\n",
      "    ============== ==== ==== ======= ===== ====================\n",
      "                    Min  Max   Mean    SD   Class Correlation\n",
      "    ============== ==== ==== ======= ===== ====================\n",
      "    sepal length:   4.3  7.9   5.84   0.83    0.7826\n",
      "    sepal width:    2.0  4.4   3.05   0.43   -0.4194\n",
      "    petal length:   1.0  6.9   3.76   1.76    0.9490  (high!)\n",
      "    petal width:    0.1  2.5   1.20   0.76    0.9565  (high!)\n",
      "    ============== ==== ==== ======= ===== ====================\n",
      "\n",
      "    :Missing Attribute Values: None\n",
      "    :Class Distribution: 33.3% for each of 3 classes.\n",
      "    :Creator: R.A. Fisher\n",
      "    :Donor: Michael Marshall (MARSHALL%PLU@io.arc.nasa.gov)\n",
      "    :Date: July, 1988\n",
      "\n",
      "The famous Iris database, first used by Sir R.A. Fisher. The dataset is taken\n",
      "from Fisher's paper. Note that it's the same as in R, but not as in the UCI\n",
      "Machine Learning Repository, which has two wrong data points.\n",
      "\n",
      "This is perhaps the best known database to be found in the\n",
      "pattern recognition literature.  Fisher's paper is a classic in the field and\n",
      "is referenced frequently to this day.  (See Duda & Hart, for example.)  The\n",
      "data set contains 3 classes of 50 instances each, where each class refers to a\n",
      "type of iris plant.  One class is linearly separable from the other 2; the\n",
      "latter are NOT linearly separable from each other.\n",
      "\n",
      ".. topic:: References\n",
      "\n",
      "   - Fisher, R.A. \"The use of multiple measurements in taxonomic problems\"\n",
      "     Annual Eugenics, 7, Part II, 179-188 (1936); also in \"Contributions to\n",
      "     Mathematical Statistics\" (John Wiley, NY, 1950).\n",
      "   - Duda, R.O., & Hart, P.E. (1973) Pattern Classification and Scene Analysis.\n",
      "     (Q327.D83) John Wiley & Sons.  ISBN 0-471-22361-1.  See page 218.\n",
      "   - Dasarathy, B.V. (1980) \"Nosing Around the Neighborhood: A New System\n",
      "     Structure and Classification Rule for Recognition in Partially Exposed\n",
      "     Environments\".  IEEE Transactions on Pattern Analysis and Machine\n",
      "     Intelligence, Vol. PAMI-2, No. 1, 67-71.\n",
      "   - Gates, G.W. (1972) \"The Reduced Nearest Neighbor Rule\".  IEEE Transactions\n",
      "     on Information Theory, May 1972, 431-433.\n",
      "   - See also: 1988 MLC Proceedings, 54-64.  Cheeseman et al\"s AUTOCLASS II\n",
      "     conceptual clustering system finds 3 classes in the data.\n",
      "   - Many, many more ...\n",
      "['sepal length (cm)', 'sepal width (cm)', 'petal length (cm)', 'petal width (cm)']\n"
     ]
    }
   ],
   "source": [
    "print(iris.DESCR)\n",
    "print(iris.feature_names)"
   ]
  },
  {
   "cell_type": "code",
   "execution_count": 26,
   "metadata": {},
   "outputs": [
    {
     "data": {
      "image/png": "[encoded data removed]",
      "text/plain": [
       "<Figure size 432x288 with 1 Axes>"
      ]
     },
     "metadata": {
      "needs_background": "light"
     },
     "output_type": "display_data"
    }
   ],
   "source": [
    "X = iris.data[:, :2] # take the first two features\n",
    "y = iris.target\n",
    "\n",
    "colors = ['r', 'g', 'b']\n",
    "\n",
    "for color, i, target in zip(colors, [0, 1, 2], iris.target_names):    \n",
    "    plt.scatter(X[y==i, 0], X[y==i, 1], color=color, label=target)\n",
    "    \n",
    "plt.xlabel('Sepal length')\n",
    "plt.ylabel('Sepal width')\n",
    "plt.legend(loc='best', shadow=False, scatterpoints=1)\n",
    "plt.title('Scatter plot of Sepal width against Sepal length')\n",
    "plt.show()"
   ]
  },
  {
   "cell_type": "code",
   "execution_count": 27,
   "metadata": {},
   "outputs": [
    {
     "name": "stdout",
     "output_type": "stream",
     "text": [
      "(array([0, 1, 2]), array([50, 44, 56], dtype=int64))\n"
     ]
    }
   ],
   "source": [
    "from sklearn.neighbors import KNeighborsClassifier\n",
    "\n",
    "k=3\n",
    "\n",
    "knn = KNeighborsClassifier(n_neighbors=k)\n",
    "knn.fit(X, y)\n",
    "\n",
    "predictions = knn.predict(X)\n",
    "\n",
    "print(np.unique(predictions, return_counts=True))\n"
   ]
  },
  {
   "cell_type": "code",
   "execution_count": 28,
   "metadata": {},
   "outputs": [
    {
     "name": "stdout",
     "output_type": "stream",
     "text": [
      "(array([0, 1, 2]), array([50, 50, 50], dtype=int64))\n"
     ]
    }
   ],
   "source": [
    "print(np.unique(y, return_counts=True))"
   ]
  },
  {
   "cell_type": "code",
   "execution_count": 29,
   "metadata": {},
   "outputs": [
    {
     "name": "stdout",
     "output_type": "stream",
     "text": [
      "              precision    recall  f1-score   support\n",
      "\n",
      "           0       1.00      1.00      1.00        50\n",
      "           1       0.82      0.72      0.77        50\n",
      "           2       0.75      0.84      0.79        50\n",
      "\n",
      "    accuracy                           0.85       150\n",
      "   macro avg       0.86      0.85      0.85       150\n",
      "weighted avg       0.86      0.85      0.85       150\n",
      "\n"
     ]
    }
   ],
   "source": [
    "from sklearn.metrics import classification_report\n",
    "print(classification_report(y, predictions))"
   ]
  },
  {
   "cell_type": "code",
   "execution_count": null,
   "metadata": {},
   "outputs": [],
   "source": [
    "# Overfitting and Cross-validation"
   ]
  },
  {
   "cell_type": "code",
   "execution_count": 30,
   "metadata": {},
   "outputs": [
    {
     "name": "stdout",
     "output_type": "stream",
     "text": [
      "1 0.96\n",
      "2 0.9533333333333334\n",
      "4 0.9666666666666666\n",
      "5 0.9666666666666668\n",
      "7 0.9666666666666668\n",
      "8 0.9666666666666668\n",
      "10 0.9666666666666668\n",
      "11 0.9666666666666668\n",
      "13 0.9800000000000001\n",
      "14 0.9733333333333334\n",
      "16 0.9733333333333334\n",
      "17 0.9733333333333334\n",
      "19 0.9733333333333334\n",
      "20 0.9800000000000001\n",
      "22 0.9666666666666666\n",
      "23 0.9733333333333334\n",
      "25 0.9666666666666666\n",
      "26 0.96\n",
      "28 0.9533333333333334\n",
      "29 0.9533333333333334\n",
      "31 0.9466666666666667\n",
      "32 0.9466666666666667\n",
      "34 0.9466666666666667\n",
      "35 0.9466666666666667\n",
      "37 0.9466666666666667\n",
      "38 0.9466666666666667\n",
      "40 0.9533333333333334\n",
      "41 0.9533333333333334\n",
      "43 0.9466666666666667\n",
      "44 0.9400000000000001\n",
      "46 0.9333333333333333\n",
      "47 0.9333333333333333\n",
      "49 0.9400000000000001\n",
      "50 0.9266666666666667\n",
      "52 0.9333333333333333\n",
      "53 0.9333333333333333\n",
      "55 0.9333333333333333\n",
      "56 0.9066666666666666\n",
      "58 0.9133333333333334\n",
      "59 0.9200000000000002\n",
      "61 0.9199999999999999\n",
      "62 0.9066666666666666\n",
      "64 0.9\n",
      "65 0.9\n",
      "67 0.8866666666666667\n",
      "68 0.8800000000000001\n",
      "70 0.8866666666666667\n",
      "71 0.8866666666666667\n",
      "73 0.8933333333333333\n",
      "74 0.8866666666666667\n",
      "76 0.8800000000000001\n",
      "77 0.8866666666666667\n",
      "79 0.8866666666666667\n",
      "80 0.8933333333333333\n",
      "82 0.9000000000000001\n",
      "83 0.8800000000000001\n",
      "85 0.8733333333333334\n",
      "86 0.8800000000000001\n",
      "88 0.8733333333333334\n",
      "89 0.8800000000000001\n",
      "91 0.6599999999999999\n",
      "92 0.6599999999999999\n",
      "94 0.6599999999999999\n",
      "95 0.6599999999999999\n",
      "97 0.6599999999999999\n",
      "98 0.6599999999999999\n",
      "100 0.6599999999999999\n",
      "101 0.6599999999999999\n",
      "103 0.6599999999999999\n",
      "104 0.6599999999999999\n",
      "106 0.6599999999999999\n",
      "107 0.6599999999999999\n",
      "109 0.6599999999999999\n",
      "110 0.6533333333333332\n",
      "112 0.6466666666666665\n",
      "113 0.6466666666666665\n",
      "115 0.6466666666666665\n",
      "116 0.6466666666666665\n",
      "118 0.6399999999999999\n",
      "119 0.6399999999999999\n",
      "121 0.6399999999999999\n",
      "122 0.6399999999999999\n",
      "124 0.6399999999999999\n",
      "125 0.6333333333333332\n",
      "127 0.6266666666666666\n",
      "128 0.6199999999999999\n",
      "130 0.6066666666666667\n",
      "131 0.5933333333333332\n",
      "133 0.5666666666666667\n",
      "134 0.5533333333333333\n"
     ]
    }
   ],
   "source": [
    "from sklearn.model_selection import cross_val_score\n",
    "\n",
    "\n",
    "#---holds the cv (cross-validates) scores---\\\n",
    "cv_scores = []\n",
    "\n",
    "#---use all features---\n",
    "X = iris.data[:, :4]\n",
    "y = iris.target\n",
    "\n",
    "#---number of divisions---\n",
    "divs = 10\n",
    "\n",
    "#---creating list of K for KNN---\n",
    "\n",
    "ks = list(range(1,int(len(X) * ((divs - 1)/divs))))\n",
    "\n",
    "#---remove all multiples of 3---\n",
    "\n",
    "ks = [k for k in ks if k % 3 != 0]\n",
    "\n",
    "#---perform cross validation---\n",
    "\n",
    "for k in ks:    \n",
    "    knn = KNeighborsClassifier(n_neighbors=k)    \n",
    "    \n",
    "    #---performs cross-validation and returns the average accuracy---    \n",
    "    scores = cross_val_score(knn, X, y, cv=divs, scoring='accuracy')    \n",
    "    mean = scores.mean()    \n",
    "    cv_scores.append(mean)    \n",
    "    print(k, mean)"
   ]
  },
  {
   "cell_type": "code",
   "execution_count": 31,
   "metadata": {},
   "outputs": [
    {
     "data": {
      "image/png": "[encoded data removed]",
      "text/plain": [
       "<Figure size 432x288 with 1 Axes>"
      ]
     },
     "metadata": {
      "needs_background": "light"
     },
     "output_type": "display_data"
    }
   ],
   "source": [
    "plt.plot(ks, cv_scores)\n",
    "plt.xlabel('Number of Neighbors K')\n",
    "plt.ylabel('Mean score')\n",
    "plt.show()"
   ]
  },
  {
   "cell_type": "code",
   "execution_count": 32,
   "metadata": {},
   "outputs": [
    {
     "name": "stdout",
     "output_type": "stream",
     "text": [
      "13\n"
     ]
    }
   ],
   "source": [
    "best_k = ks[cv_scores.index(max(cv_scores))]\n",
    "print(best_k)"
   ]
  },
  {
   "cell_type": "code",
   "execution_count": null,
   "metadata": {},
   "outputs": [],
   "source": []
  }
 ],
 "metadata": {
  "kernelspec": {
   "display_name": "Python 3",
   "language": "python",
   "name": "python3"
  },
  "language_info": {
   "codemirror_mode": {
    "name": "ipython",
    "version": 3
   },
   "file_extension": ".py",
   "mimetype": "text/x-python",
   "name": "python",
   "nbconvert_exporter": "python",
   "pygments_lexer": "ipython3",
   "version": "3.7.9"
  }
 },
 "nbformat": 4,
 "nbformat_minor": 4
}
