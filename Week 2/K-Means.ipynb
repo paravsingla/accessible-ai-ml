{
 "cells": [
  {
   "cell_type": "code",
   "execution_count": 1,
   "metadata": {},
   "outputs": [],
   "source": [
    "import numpy as np\n",
    "import pandas as pd\n",
    "import matplotlib.pyplot as plt"
   ]
  },
  {
   "cell_type": "code",
   "execution_count": 2,
   "metadata": {},
   "outputs": [
    {
     "data": {
      "text/html": [
       "<div>\n",
       "<style scoped>\n",
       "    .dataframe tbody tr th:only-of-type {\n",
       "        vertical-align: middle;\n",
       "    }\n",
       "\n",
       "    .dataframe tbody tr th {\n",
       "        vertical-align: top;\n",
       "    }\n",
       "\n",
       "    .dataframe thead th {\n",
       "        text-align: right;\n",
       "    }\n",
       "</style>\n",
       "<table border=\"1\" class=\"dataframe\">\n",
       "  <thead>\n",
       "    <tr style=\"text-align: right;\">\n",
       "      <th></th>\n",
       "      <th>x</th>\n",
       "      <th>y</th>\n",
       "    </tr>\n",
       "  </thead>\n",
       "  <tbody>\n",
       "    <tr>\n",
       "      <th>0</th>\n",
       "      <td>1</td>\n",
       "      <td>1</td>\n",
       "    </tr>\n",
       "    <tr>\n",
       "      <th>1</th>\n",
       "      <td>2</td>\n",
       "      <td>2</td>\n",
       "    </tr>\n",
       "    <tr>\n",
       "      <th>2</th>\n",
       "      <td>2</td>\n",
       "      <td>3</td>\n",
       "    </tr>\n",
       "    <tr>\n",
       "      <th>3</th>\n",
       "      <td>1</td>\n",
       "      <td>4</td>\n",
       "    </tr>\n",
       "    <tr>\n",
       "      <th>4</th>\n",
       "      <td>3</td>\n",
       "      <td>3</td>\n",
       "    </tr>\n",
       "  </tbody>\n",
       "</table>\n",
       "</div>"
      ],
      "text/plain": [
       "   x  y\n",
       "0  1  1\n",
       "1  2  2\n",
       "2  2  3\n",
       "3  1  4\n",
       "4  3  3"
      ]
     },
     "execution_count": 2,
     "metadata": {},
     "output_type": "execute_result"
    }
   ],
   "source": [
    "df = pd.read_csv(\"kmeans.csv\")\n",
    "df.head()"
   ]
  },
  {
   "cell_type": "code",
   "execution_count": 3,
   "metadata": {},
   "outputs": [
    {
     "data": {
      "image/png": "[encoded data removed]",
      "text/plain": [
       "<Figure size 432x288 with 1 Axes>"
      ]
     },
     "metadata": {
      "needs_background": "light"
     },
     "output_type": "display_data"
    }
   ],
   "source": [
    "plt.scatter(df['x'],df['y'])\n",
    "plt.show()"
   ]
  },
  {
   "cell_type": "code",
   "execution_count": 7,
   "metadata": {},
   "outputs": [],
   "source": [
    "from sklearn.cluster import KMeans\n",
    "k=3\n",
    "kmeans = KMeans(n_clusters=k)\n",
    "kmeans = kmeans.fit(df)"
   ]
  },
  {
   "cell_type": "code",
   "execution_count": 8,
   "metadata": {},
   "outputs": [],
   "source": [
    "labels = kmeans.predict(df)"
   ]
  },
  {
   "cell_type": "code",
   "execution_count": 9,
   "metadata": {},
   "outputs": [
    {
     "name": "stdout",
     "output_type": "stream",
     "text": [
      "[1 1 1 1 1 2 2 2 0 2 1 2 2 2 2 1 0 0 2]\n",
      "[[7.66666667 5.33333333]\n",
      " [2.         2.71428571]\n",
      " [6.77777778 8.11111111]]\n"
     ]
    }
   ],
   "source": [
    "print(labels)\n",
    "centroids = kmeans.cluster_centers_\n",
    "print(centroids)"
   ]
  },
  {
   "cell_type": "code",
   "execution_count": 13,
   "metadata": {},
   "outputs": [
    {
     "data": {
      "image/png": "[encoded data removed]",
      "text/plain": [
       "<Figure size 432x288 with 1 Axes>"
      ]
     },
     "metadata": {
      "needs_background": "light"
     },
     "output_type": "display_data"
    }
   ],
   "source": [
    "c = ['b','r','y']\n",
    "colors = [c[i] for i in labels]\n",
    "\n",
    "plt.scatter(df['x'],df['y'], c=colors, s=50)\n",
    "plt.scatter(centroids[:, 0], centroids[:, 1], marker='*', s=100, c='black')\n",
    "plt.show()"
   ]
  },
  {
   "cell_type": "code",
   "execution_count": 15,
   "metadata": {},
   "outputs": [
    {
     "name": "stdout",
     "output_type": "stream",
     "text": [
      "[0.67534567 0.73722797 0.73455072 0.66254937 0.6323039  0.33332111\n",
      " 0.63792468 0.58821402 0.29141777 0.59137721 0.50802377 0.63792468\n",
      " 0.52511161 0.33332111 0.63792468 0.60168807 0.51664787 0.42831295\n",
      " 0.52511161]\n",
      "Average of Silhouette Coefficients for k = 3\n",
      "============================================\n",
      "Silhouette mean: 0.5578051985195768\n"
     ]
    }
   ],
   "source": [
    "from sklearn import metrics\n",
    "\n",
    "\n",
    "silhouette_samples = metrics.silhouette_samples(df, kmeans.labels_)\n",
    "print(silhouette_samples)\n",
    "\n",
    "print(\"Average of Silhouette Coefficients for k =\", k)\n",
    "print(\"============================================\")\n",
    "print(\"Silhouette mean:\", silhouette_samples.mean())"
   ]
  },
  {
   "cell_type": "code",
   "execution_count": 20,
   "metadata": {},
   "outputs": [
    {
     "name": "stdout",
     "output_type": "stream",
     "text": [
      "Silhouette Coefficients for k = 2 is 0.6897112069939448\n",
      "Silhouette Coefficients for k = 3 is 0.5578051985195768\n",
      "Silhouette Coefficients for k = 4 is 0.4430381814640289\n",
      "Silhouette Coefficients for k = 5 is 0.4424248576948773\n",
      "Silhouette Coefficients for k = 6 is 0.41576163256548826\n",
      "Silhouette Coefficients for k = 7 is 0.4569094843063473\n",
      "Silhouette Coefficients for k = 8 is 0.43024625917695825\n",
      "Silhouette Coefficients for k = 9 is 0.43985823083018905\n",
      "Silhouette Coefficients for k = 10 is 0.5124113408422506\n",
      "Silhouette Coefficients for k = 11 is 0.4695564671186216\n",
      "Silhouette Coefficients for k = 12 is 0.4409831398126504\n",
      "Silhouette Coefficients for k = 13 is 0.4255677072435213\n",
      "Silhouette Coefficients for k = 14 is 0.4101522746743922\n",
      "Silhouette Coefficients for k = 15 is 0.3684210526315789\n"
     ]
    },
    {
     "name": "stderr",
     "output_type": "stream",
     "text": [
      "c:\\users\\accessible ai\\appdata\\local\\programs\\python\\python37\\lib\\site-packages\\ipykernel_launcher.py:7: ConvergenceWarning: Number of distinct clusters (15) found smaller than n_clusters (16). Possibly due to duplicate points in X.\n",
      "  import sys\n"
     ]
    },
    {
     "name": "stdout",
     "output_type": "stream",
     "text": [
      "Silhouette Coefficients for k = 16 is 0.3684210526315789\n"
     ]
    },
    {
     "name": "stderr",
     "output_type": "stream",
     "text": [
      "c:\\users\\accessible ai\\appdata\\local\\programs\\python\\python37\\lib\\site-packages\\ipykernel_launcher.py:7: ConvergenceWarning: Number of distinct clusters (15) found smaller than n_clusters (17). Possibly due to duplicate points in X.\n",
      "  import sys\n"
     ]
    },
    {
     "name": "stdout",
     "output_type": "stream",
     "text": [
      "Silhouette Coefficients for k = 17 is 0.3684210526315789\n",
      "Silhouette Coefficients for k = 18 is 0.3684210526315789\n",
      "Optimal K is  2\n"
     ]
    },
    {
     "name": "stderr",
     "output_type": "stream",
     "text": [
      "c:\\users\\accessible ai\\appdata\\local\\programs\\python\\python37\\lib\\site-packages\\ipykernel_launcher.py:7: ConvergenceWarning: Number of distinct clusters (15) found smaller than n_clusters (18). Possibly due to duplicate points in X.\n",
      "  import sys\n"
     ]
    },
    {
     "data": {
      "image/png": "[encoded data removed]",
      "text/plain": [
       "<Figure size 504x360 with 1 Axes>"
      ]
     },
     "metadata": {
      "needs_background": "light"
     },
     "output_type": "display_data"
    }
   ],
   "source": [
    "silhouette_avgs = []\n",
    "min_k = 2\n",
    "\n",
    "#---try k from 2 to maximum number of labels---\n",
    "\n",
    "for k in range(min_k, len(df)):    \n",
    "    kmean = KMeans(n_clusters=k).fit(df)    \n",
    "    score = metrics.silhouette_score(df, kmean.labels_)    \n",
    "    print(\"Silhouette Coefficients for k =\", k, \"is\", score)    \n",
    "    silhouette_avgs.append(score)\n",
    "    \n",
    "f, ax = plt.subplots(figsize=(7, 5))\n",
    "ax.plot(range(min_k, len(df)), silhouette_avgs)\n",
    "\n",
    "plt.xlabel(\"Number of clusters\")\n",
    "plt.ylabel(\"Silhouette Coefficients\")\n",
    "\n",
    "#---the optimal k is the one with the highest average silhouette---\n",
    "Optimal_K = silhouette_avgs.index(max(silhouette_avgs)) + min_k\n",
    "print(\"Optimal K is \", Optimal_K)"
   ]
  },
  {
   "cell_type": "code",
   "execution_count": 10,
   "metadata": {},
   "outputs": [
    {
     "name": "stdout",
     "output_type": "stream",
     "text": [
      "<class 'pandas.core.frame.DataFrame'>\n",
      "RangeIndex: 9950 entries, 0 to 9949\n",
      "Data columns (total 5 columns):\n",
      " #   Column    Non-Null Count  Dtype  \n",
      "---  ------    --------------  -----  \n",
      " 0   seqn      9950 non-null   int64  \n",
      " 1   bmxwt     9847 non-null   float64\n",
      " 2   bmxht     8962 non-null   float64\n",
      " 3   bmxbmi    8949 non-null   float64\n",
      " 4   bmxwaist  8672 non-null   float64\n",
      "dtypes: float64(4), int64(1)\n",
      "memory usage: 388.8 KB\n"
     ]
    },
    {
     "data": {
      "text/html": [
       "<div>\n",
       "<style scoped>\n",
       "    .dataframe tbody tr th:only-of-type {\n",
       "        vertical-align: middle;\n",
       "    }\n",
       "\n",
       "    .dataframe tbody tr th {\n",
       "        vertical-align: top;\n",
       "    }\n",
       "\n",
       "    .dataframe thead th {\n",
       "        text-align: right;\n",
       "    }\n",
       "</style>\n",
       "<table border=\"1\" class=\"dataframe\">\n",
       "  <thead>\n",
       "    <tr style=\"text-align: right;\">\n",
       "      <th></th>\n",
       "      <th>seqn</th>\n",
       "      <th>bmxwt</th>\n",
       "      <th>bmxht</th>\n",
       "      <th>bmxbmi</th>\n",
       "      <th>bmxwaist</th>\n",
       "    </tr>\n",
       "  </thead>\n",
       "  <tbody>\n",
       "    <tr>\n",
       "      <th>0</th>\n",
       "      <td>31127</td>\n",
       "      <td>10.2</td>\n",
       "      <td>NaN</td>\n",
       "      <td>NaN</td>\n",
       "      <td>NaN</td>\n",
       "    </tr>\n",
       "    <tr>\n",
       "      <th>1</th>\n",
       "      <td>31128</td>\n",
       "      <td>40.1</td>\n",
       "      <td>151.6</td>\n",
       "      <td>17.45</td>\n",
       "      <td>62.8</td>\n",
       "    </tr>\n",
       "    <tr>\n",
       "      <th>2</th>\n",
       "      <td>31129</td>\n",
       "      <td>74.6</td>\n",
       "      <td>167.7</td>\n",
       "      <td>26.53</td>\n",
       "      <td>97.8</td>\n",
       "    </tr>\n",
       "    <tr>\n",
       "      <th>3</th>\n",
       "      <td>31130</td>\n",
       "      <td>NaN</td>\n",
       "      <td>NaN</td>\n",
       "      <td>NaN</td>\n",
       "      <td>NaN</td>\n",
       "    </tr>\n",
       "    <tr>\n",
       "      <th>4</th>\n",
       "      <td>31131</td>\n",
       "      <td>75.2</td>\n",
       "      <td>156.0</td>\n",
       "      <td>30.90</td>\n",
       "      <td>96.0</td>\n",
       "    </tr>\n",
       "  </tbody>\n",
       "</table>\n",
       "</div>"
      ],
      "text/plain": [
       "    seqn  bmxwt  bmxht  bmxbmi  bmxwaist\n",
       "0  31127   10.2    NaN     NaN       NaN\n",
       "1  31128   40.1  151.6   17.45      62.8\n",
       "2  31129   74.6  167.7   26.53      97.8\n",
       "3  31130    NaN    NaN     NaN       NaN\n",
       "4  31131   75.2  156.0   30.90      96.0"
      ]
     },
     "execution_count": 10,
     "metadata": {},
     "output_type": "execute_result"
    }
   ],
   "source": [
    "df = pd.read_csv(\"bmx.csv\")\n",
    "df.info()\n",
    "df.head()"
   ]
  },
  {
   "cell_type": "code",
   "execution_count": 11,
   "metadata": {},
   "outputs": [
    {
     "data": {
      "text/plain": [
       "seqn           0\n",
       "bmxwt        103\n",
       "bmxht        988\n",
       "bmxbmi      1001\n",
       "bmxwaist    1278\n",
       "dtype: int64"
      ]
     },
     "execution_count": 11,
     "metadata": {},
     "output_type": "execute_result"
    }
   ],
   "source": [
    "df.isnull().sum()"
   ]
  },
  {
   "cell_type": "code",
   "execution_count": 12,
   "metadata": {},
   "outputs": [],
   "source": [
    "df = df.dropna()"
   ]
  },
  {
   "cell_type": "code",
   "execution_count": 13,
   "metadata": {},
   "outputs": [
    {
     "name": "stdout",
     "output_type": "stream",
     "text": [
      "<class 'pandas.core.frame.DataFrame'>\n",
      "Int64Index: 8655 entries, 1 to 9949\n",
      "Data columns (total 5 columns):\n",
      " #   Column    Non-Null Count  Dtype  \n",
      "---  ------    --------------  -----  \n",
      " 0   seqn      8655 non-null   int64  \n",
      " 1   bmxwt     8655 non-null   float64\n",
      " 2   bmxht     8655 non-null   float64\n",
      " 3   bmxbmi    8655 non-null   float64\n",
      " 4   bmxwaist  8655 non-null   float64\n",
      "dtypes: float64(4), int64(1)\n",
      "memory usage: 405.7 KB\n"
     ]
    }
   ],
   "source": [
    "df.info()"
   ]
  },
  {
   "cell_type": "code",
   "execution_count": 20,
   "metadata": {},
   "outputs": [
    {
     "data": {
      "image/png": "[encoded data removed]",
      "text/plain": [
       "<Figure size 432x288 with 1 Axes>"
      ]
     },
     "metadata": {
      "needs_background": "light"
     },
     "output_type": "display_data"
    }
   ],
   "source": [
    "plt.scatter(df['bmxbmi'],df['bmxwt'], s=2)\n",
    "plt.show()"
   ]
  },
  {
   "cell_type": "code",
   "execution_count": null,
   "metadata": {},
   "outputs": [],
   "source": []
  }
 ],
 "metadata": {
  "kernelspec": {
   "display_name": "Python 3",
   "language": "python",
   "name": "python3"
  },
  "language_info": {
   "codemirror_mode": {
    "name": "ipython",
    "version": 3
   },
   "file_extension": ".py",
   "mimetype": "text/x-python",
   "name": "python",
   "nbconvert_exporter": "python",
   "pygments_lexer": "ipython3",
   "version": "3.7.9"
  }
 },
 "nbformat": 4,
 "nbformat_minor": 4
}
